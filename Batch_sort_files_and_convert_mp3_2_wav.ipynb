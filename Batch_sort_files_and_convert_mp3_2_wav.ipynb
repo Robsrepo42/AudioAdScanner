{
  "nbformat": 4,
  "nbformat_minor": 0,
  "metadata": {
    "colab": {
      "name": "Batch sort files and convert mp3 2 wav.ipynb",
      "provenance": [],
      "collapsed_sections": [],
      "toc_visible": true,
      "mount_file_id": "1fZS5qcuJ13c6-JWvw4soM4bntOlPiyZx",
      "authorship_tag": "ABX9TyMnCN2LmvHbbtrnpHcwTNVE",
      "include_colab_link": true
    },
    "kernelspec": {
      "name": "python3",
      "display_name": "Python 3"
    }
  },
  "cells": [
    {
      "cell_type": "markdown",
      "metadata": {
        "id": "view-in-github",
        "colab_type": "text"
      },
      "source": [
        "<a href=\"https://colab.research.google.com/github/Robsrepo42/AudioAdScanner/blob/main/Batch_sort_files_and_convert_mp3_2_wav.ipynb\" target=\"_parent\"><img src=\"https://colab.research.google.com/assets/colab-badge.svg\" alt=\"Open In Colab\"/></a>"
      ]
    },
    {
      "cell_type": "markdown",
      "metadata": {
        "id": "J38uZ8E-0zdF"
      },
      "source": [
        "### We want to copy files and folders in Google drive - ideally using conditions"
      ]
    },
    {
      "cell_type": "markdown",
      "metadata": {
        "id": "CMkXSl0u1Bjl"
      },
      "source": [
        "Helpful source Links:\r\n",
        "https://medium.com/analytics-vidhya/a-simple-way-to-copy-entire-folders-in-google-drive-7eabd5426049\r\n"
      ]
    },
    {
      "cell_type": "markdown",
      "metadata": {
        "id": "m5HSZbLiEzde"
      },
      "source": [
        "### Requirements"
      ]
    },
    {
      "cell_type": "code",
      "metadata": {
        "id": "P6S6g1pv_ywn"
      },
      "source": [
        "import sys\r\n",
        "import os # interaction with Operating system\r\n",
        "from glob import glob # UNIX Style pathname pattern extension"
      ],
      "execution_count": 1,
      "outputs": []
    },
    {
      "cell_type": "markdown",
      "metadata": {
        "id": "i4zauVG9EuVQ"
      },
      "source": [
        "https://facelessuser.github.io/wcmatch/glob/ "
      ]
    },
    {
      "cell_type": "code",
      "metadata": {
        "colab": {
          "base_uri": "https://localhost:8080/"
        },
        "id": "M2a__VGmD4b1",
        "outputId": "c243a221-53b7-4a8d-ad75-252da532bdef"
      },
      "source": [
        "# after uploading the data to Google Drive it has to be mounted (usually autom):\r\n",
        "from google.colab import drive\r\n",
        "drive.mount(\"/content/drive\")\r\n"
      ],
      "execution_count": 2,
      "outputs": [
        {
          "output_type": "stream",
          "text": [
            "Mounted at /content/drive\n",
            "drive  sample_data\n"
          ],
          "name": "stdout"
        }
      ]
    },
    {
      "cell_type": "code",
      "metadata": {
        "colab": {
          "base_uri": "https://localhost:8080/"
        },
        "id": "q21a6RsszuWW",
        "outputId": "677dbb42-93ed-4565-83bd-11dce05f018d"
      },
      "source": [
        "!ls # list files (and Folders) in current directory\n",
        "%ls # list files (and Folders) in current directory in linux bash"
      ],
      "execution_count": 4,
      "outputs": [
        {
          "output_type": "stream",
          "text": [
            "drive  sample_data\n",
            "\u001b[0m\u001b[01;34mdrive\u001b[0m/  \u001b[01;34msample_data\u001b[0m/\n"
          ],
          "name": "stdout"
        }
      ]
    },
    {
      "cell_type": "code",
      "metadata": {
        "colab": {
          "base_uri": "https://localhost:8080/"
        },
        "id": "axkXqn6L_3nD",
        "outputId": "8a1ad603-7a95-454e-f664-e753e780fd49"
      },
      "source": [
        "# Setting the directory for the source mp3 audio files from region \"nord\" and date 3rd Dec.\r\n",
        "source = './drive/MyDrive/Colab Notebooks/Audio Ad Scanner Project/RAW/nord/2020-12-03'\r\n",
        "audio_files = glob(source + '/*.mp3') # defines Audio Files as the MP3s in the source directory\r\n",
        "len(audio_files) # how many MP3s are in the source Dir?"
      ],
      "execution_count": 5,
      "outputs": [
        {
          "output_type": "execute_result",
          "data": {
            "text/plain": [
              "288"
            ]
          },
          "metadata": {
            "tags": []
          },
          "execution_count": 5
        }
      ]
    },
    {
      "cell_type": "markdown",
      "metadata": {
        "id": "cZZ1W9RWAhM4"
      },
      "source": [
        "### Filtering the commercial breaks audio files from all audio into separate files"
      ]
    },
    {
      "cell_type": "code",
      "metadata": {
        "id": "DTtMabYL3f8b"
      },
      "source": [
        "# Path that contains folder you want to copy using Linux command Line code. The \"%\" tells colab that it's a linux command\r\n",
        "%cd /content/drive/MyDrive/Colab Notebooks/Audio Ad Scanner Project/RAW/nord/\r\n",
        "#%ls # Zeige eine Liste aller Dateien im Verzeichnis an\r\n",
        "%cp -av 2020-12-03/ TEST # kopiert den Ordner \"2020-12-03\" in den neu erzeugten Ordner \"TEST\""
      ],
      "execution_count": null,
      "outputs": []
    },
    {
      "cell_type": "markdown",
      "metadata": {
        "id": "-BX07A59BQdB"
      },
      "source": [
        "### Converting MP3 to WAVes using PyDub\r\n",
        "https://stackoverflow.com/questions/32073278/python-convert-mp3-to-wav-with-pydub\r\n",
        "\r\n",
        "https://stackoverflow.com/questions/23730796/using-pydub-to-chop-up-a-long-audio-file"
      ]
    },
    {
      "cell_type": "code",
      "metadata": {
        "colab": {
          "base_uri": "https://localhost:8080/"
        },
        "id": "iNg6_ewWBx2T",
        "outputId": "107b5373-7c14-4db1-d890-ccb851ff1d8e"
      },
      "source": [
        "!pip install pydub\n",
        "import pydub"
      ],
      "execution_count": null,
      "outputs": [
        {
          "output_type": "stream",
          "text": [
            "Collecting pydub\n",
            "  Downloading https://files.pythonhosted.org/packages/7b/d1/fbfa79371a8cd9bb15c2e3c480d7e6e340ed5cc55005174e16f48418333a/pydub-0.24.1-py2.py3-none-any.whl\n",
            "Installing collected packages: pydub\n",
            "Successfully installed pydub-0.24.1\n"
          ],
          "name": "stdout"
        }
      ]
    },
    {
      "cell_type": "code",
      "metadata": {
        "colab": {
          "base_uri": "https://localhost:8080/"
        },
        "id": "W6GEw3l5BXqZ",
        "outputId": "936822c9-a636-42c7-8f9c-4245269ac492"
      },
      "source": [
        "from pydub import AudioSegment\r\n",
        "AudioSegment.from_mp3(\"/content/drive/MyDrive/Colab Notebooks/Audio Ad Scanner Project/RAW/nord/2020-12-03/20201203-000000.mp3\").export(\"/content/drive/MyDrive/Colab Notebooks/Audio Ad Scanner Project/RAW/nord/2020-12-03/20201203-000000.wav\", format=\"wav\")"
      ],
      "execution_count": null,
      "outputs": [
        {
          "output_type": "execute_result",
          "data": {
            "text/plain": [
              "<_io.BufferedRandom name='/content/drive/MyDrive/Colab Notebooks/Audio Ad Scanner Project/RAW/nord/2020-12-03/20201203-000000.wav'>"
            ]
          },
          "metadata": {
            "tags": []
          },
          "execution_count": 22
        }
      ]
    },
    {
      "cell_type": "markdown",
      "metadata": {
        "id": "UxuFtLUv00-B"
      },
      "source": [
        "Loading a File using Librosa"
      ]
    },
    {
      "cell_type": "code",
      "metadata": {
        "id": "Q4HvHa0p05a4"
      },
      "source": [
        "y, sr = librosa.load(audio_files[1])"
      ],
      "execution_count": null,
      "outputs": []
    },
    {
      "cell_type": "markdown",
      "metadata": {
        "id": "rpx5T1udE8dL"
      },
      "source": [
        "### Loading a wave File (using WAVE) and extracting the audio data (tuple of time and amplitude (mono files)"
      ]
    },
    {
      "cell_type": "code",
      "metadata": {
        "colab": {
          "base_uri": "https://localhost:8080/"
        },
        "id": "18m20hpzKI2h",
        "outputId": "1a0dba92-f6b3-445e-e2ef-4bbd089736c9"
      },
      "source": [
        "#audio=read(\"C:/Users/Martinez/Desktop/impulso.wav\") # Reading a file from local disc\r\n",
        "#print audio # print shows a tuple with the raw data of the audio file\r\n",
        "spf = wave.open(audio_files[1], \"r\") # r probably means \"read only\" short 4 \"rb\"?\r\n",
        "\r\n",
        "# extract raw audio from Wave-File\r\n",
        "signal = spf.readframes(-1) # reading the audio's frames. The \"-1\" means that we want the last one\r\n",
        "signal = np.fromstring(signal, \"Int16\") # this creates an numpy array from a string. The INT16 most likely means, that the step is defined as an INT lenght 16 (the sound file's resultion)\r\n",
        "fs = spf.getframerate()     # I assume this is the sampling rate (per second)\r\n",
        "print(fs)             # equals 44.100 here\r\n",
        "# If Stereo\r\n",
        "#if spf.getnchannels() == 2:\r\n",
        " #   print(\"Just mono files\")\r\n",
        " #   sys.exit(0)"
      ],
      "execution_count": null,
      "outputs": [
        {
          "output_type": "stream",
          "text": [
            "44100\n"
          ],
          "name": "stdout"
        },
        {
          "output_type": "stream",
          "text": [
            "/usr/local/lib/python3.6/dist-packages/ipykernel_launcher.py:7: DeprecationWarning: Numeric-style type codes are deprecated and will result in an error in the future.\n",
            "  import sys\n",
            "/usr/local/lib/python3.6/dist-packages/ipykernel_launcher.py:7: DeprecationWarning: The binary mode of fromstring is deprecated, as it behaves surprisingly on unicode inputs. Use frombuffer instead\n",
            "  import sys\n"
          ],
          "name": "stderr"
        }
      ]
    },
    {
      "cell_type": "markdown",
      "metadata": {
        "id": "rppbzGtQKjka"
      },
      "source": [
        "### Plotting the Wave data (time and amplitude)"
      ]
    },
    {
      "cell_type": "code",
      "metadata": {
        "id": "Jb2V1_rhmb_V",
        "colab": {
          "base_uri": "https://localhost:8080/",
          "height": 281
        },
        "outputId": "517a3dd8-f573-4436-c281-eaa6bfdced80"
      },
      "source": [
        "plt.figure(1) # plot 1 figure (not 2 or three)\r\n",
        "plt.xlim(0, 300000)   # range of x-axis values (from 0 to 300.000 (frames))\r\n",
        "#plt.xlim(0, 441000)   # range of x-axis values (this would be = 10 secs)\r\n",
        "plt.title(\"Original Signal\") # give the plot a title\r\n",
        "plt.ylim(-20000, 20000) # range of y-axis values (amplitude)\r\n",
        "plt.plot(signal) # Plot the signal data\r\n",
        "plt.show()"
      ],
      "execution_count": null,
      "outputs": [
        {
          "output_type": "display_data",
          "data": {
            "image/png": "[encoded data removed]",
            "text/plain": [
              "<Figure size 432x288 with 1 Axes>"
            ]
          },
          "metadata": {
            "tags": [],
            "needs_background": "light"
          }
        }
      ]
    },
    {
      "cell_type": "markdown",
      "metadata": {
        "id": "EsdmJlj5kWQ7"
      },
      "source": [
        "### Cutting frames out on conditions... or rather dropping frames and appending them on condition"
      ]
    },
    {
      "cell_type": "code",
      "metadata": {
        "id": "L-ysfbwV-x4f"
      },
      "source": [
        "shelf = 7500 # well I guess this defines an amplitude limit (let's take 7500 here)\r\n",
        "preClickEcho = 500 # I don't think this applies to a heartbeat\r\n",
        "clickEcho = 1000 # same here - we will drop this later\r\n",
        "\r\n",
        "trimmedSignal = [] # this I guess is where the result of the while loop goes\r\n",
        "i = 0 # we start at the bottom (index = 0)\r\n",
        "while i < len(signal): # as long a the framenumber is within the range of the singnal's length\r\n",
        "    s = signal[i] # s is defined as the amplitude of the current frame \"in the loop\"\r\n",
        "    if (-1 * shelf) < s > shelf: # if the amplitude is in the invervall of -shelf (7500) to shelf (7500)\r\n",
        "            trimmedSignal = trimmedSignal[0:i - preClickEcho]\r\n",
        "            i += clickEcho\r\n",
        "            while i < len(signal) and (-1 * shelf) < signal[i] < shelf:\r\n",
        "                i += 1\r\n",
        "            i += clickEcho\r\n",
        "    else: # if above conditions to the frame are not met\r\n",
        "        trimmedSignal.append(s) # append the frame to the trimmed signal\r\n",
        "        i += 1 # then go on to the next frame (restart the loop)"
      ],
      "execution_count": null,
      "outputs": []
    },
    {
      "cell_type": "markdown",
      "metadata": {
        "id": "PrzaJEyqkIlQ"
      },
      "source": [
        "### Now compare the plots of the singal and the trimmed signal"
      ]
    },
    {
      "cell_type": "code",
      "metadata": {
        "colab": {
          "base_uri": "https://localhost:8080/",
          "height": 545
        },
        "id": "xBp99HRCkDz_",
        "outputId": "973e39a2-afc1-4d12-bf5d-3363a6bd51cf"
      },
      "source": [
        "plt.figure(1)\n",
        "plt.xlim(0, 300000)\n",
        "plt.title(\"Original Signal\")\n",
        "plt.ylim(-20000, 20000)\n",
        "plt.plot(signal)\n",
        "\n",
        "\n",
        "plt.figure(2)\n",
        "plt.title(\"Without the section between clicks\")\n",
        "plt.plot(trimmedSignal)\n",
        "plt.xlim(0, 300000)\n",
        "plt.ylim(-20000, 20000)\n",
        "\n",
        "plt.show()"
      ],
      "execution_count": null,
      "outputs": [
        {
          "output_type": "display_data",
          "data": {
            "image/png": "[encoded data removed]",
            "text/plain": [
              "<Figure size 432x288 with 1 Axes>"
            ]
          },
          "metadata": {
            "tags": [],
            "needs_background": "light"
          }
        },
        {
          "output_type": "display_data",
          "data": {
            "image/png": "[encoded data removed]",
            "text/plain": [
              "<Figure size 432x288 with 1 Axes>"
            ]
          },
          "metadata": {
            "tags": [],
            "needs_background": "light"
          }
        }
      ]
    },
    {
      "cell_type": "code",
      "metadata": {
        "id": "jLAIX9SG-1Fr",
        "colab": {
          "base_uri": "https://localhost:8080/"
        },
        "outputId": "f1f3b7b6-72bf-42a1-f67d-3ce2fa5ad3b2"
      },
      "source": [
        "print(\"exporting to trimmed.wav\")\r\n",
        "outputFile = wave.open(\"trimmed.wav\", \"wb\")\r\n",
        "outputFile.setnchannels(spf.getnchannels())\r\n",
        "outputFile.setframerate(spf.getframerate())\r\n",
        "outputFile.setsampwidth(spf.getsampwidth())\r\n",
        "\r\n",
        "#print(type(trimmedSignal))\r\n",
        "outputFile.writeframes(np.array(trimmedSignal).tobytes())\r\n",
        "outputFile.close()\r\n",
        "print(\"done\")"
      ],
      "execution_count": null,
      "outputs": [
        {
          "output_type": "stream",
          "text": [
            "exporting to trimmed.wav\n",
            "done\n"
          ],
          "name": "stdout"
        }
      ]
    },
    {
      "cell_type": "markdown",
      "metadata": {
        "id": "DUaNGCXiiwPb"
      },
      "source": [
        "https://www.youtube.com/watch?v=KyP2a0Ms2-c\r\n",
        "https://stackoverflow.com/questions/18625085/how-to-plot-a-wav-file\r\n",
        "https://docs.python.org/3/library/wave.html"
      ]
    }
  ]
}